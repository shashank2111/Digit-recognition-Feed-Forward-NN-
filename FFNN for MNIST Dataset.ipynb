{
 "cells": [
  {
   "cell_type": "code",
   "execution_count": 1,
   "metadata": {
    "colab": {},
    "colab_type": "code",
    "id": "FACEksENv_Hh"
   },
   "outputs": [],
   "source": [
    "from keras.datasets import mnist\n",
    "#loading the mnist dataset\n",
    "\n",
    "(train_data, train_target),(test_data, test_target) = mnist.load_data()\n",
    "#spliting the dataset into training and testing"
   ]
  },
  {
   "cell_type": "code",
   "execution_count": 2,
   "metadata": {
    "colab": {
     "base_uri": "https://localhost:8080/",
     "height": 265
    },
    "colab_type": "code",
    "id": "ZqT96HNf9yS3",
    "outputId": "bec78c8c-340e-40fe-b9a0-ff643ed5dcac"
   },
   "outputs": [
    {
     "data": {
      "image/png": "[encoded data removed]",
      "text/plain": [
       "<Figure size 432x288 with 1 Axes>"
      ]
     },
     "metadata": {
      "needs_background": "light"
     },
     "output_type": "display_data"
    }
   ],
   "source": [
    "from matplotlib import pyplot as plt\n",
    "\n",
    "plt.imshow(train_data[0],cmap='gray')\n",
    "plt.show()"
   ]
  },
  {
   "cell_type": "code",
   "execution_count": 3,
   "metadata": {
    "colab": {
     "base_uri": "https://localhost:8080/",
     "height": 34
    },
    "colab_type": "code",
    "id": "uoq_CiJW-G3v",
    "outputId": "d093fff7-fa90-40aa-df1e-f468fa607f92"
   },
   "outputs": [
    {
     "name": "stdout",
     "output_type": "stream",
     "text": [
      "5\n"
     ]
    }
   ],
   "source": [
    "print(train_target[0])"
   ]
  },
  {
   "cell_type": "code",
   "execution_count": 4,
   "metadata": {
    "colab": {},
    "colab_type": "code",
    "id": "Cedhn8pv9mpa"
   },
   "outputs": [],
   "source": [
    "train_data= train_data / 255.0 \n",
    "test_data=test_data/255.0\n",
    "#Scaling the 0-255 gray image to 0-1 (Requirement before training the Neural Network)"
   ]
  },
  {
   "cell_type": "code",
   "execution_count": 5,
   "metadata": {
    "colab": {
     "base_uri": "https://localhost:8080/",
     "height": 289
    },
    "colab_type": "code",
    "id": "H7WOojQu9zm4",
    "outputId": "d722e6fc-eb21-4fe5-cb9a-409f54cb049e"
   },
   "outputs": [
    {
     "name": "stdout",
     "output_type": "stream",
     "text": [
      "Model: \"sequential\"\n",
      "_________________________________________________________________\n",
      "Layer (type)                 Output Shape              Param #   \n",
      "=================================================================\n",
      "flatten (Flatten)            (None, 784)               0         \n",
      "_________________________________________________________________\n",
      "dense (Dense)                (None, 512)               401920    \n",
      "_________________________________________________________________\n",
      "dense_1 (Dense)              (None, 256)               131328    \n",
      "_________________________________________________________________\n",
      "dense_2 (Dense)              (None, 10)                2570      \n",
      "=================================================================\n",
      "Total params: 535,818\n",
      "Trainable params: 535,818\n",
      "Non-trainable params: 0\n",
      "_________________________________________________________________\n"
     ]
    }
   ],
   "source": [
    "from keras.models import Sequential\n",
    "#loading Sequential model from keras\n",
    "from keras.layers import Flatten,Dense\n",
    "#loading Flatten and Dense layers from keras\n",
    "\n",
    "model = Sequential()\n",
    "#creating a Sequential type neural network (a empty neural network, add layer by layer)\n",
    "model.add(Flatten(input_shape=(28, 28)))\n",
    "#a flatten layer to flatten up the 28x28 input image into 784 inputs\n",
    "model.add(Dense(512, activation='relu'))\n",
    "#1st Hidden layer with 512 Neurons\n",
    "model.add(Dense(256, activation='relu'))\n",
    "#2nd Hidden layer with 256 Neurons\n",
    "model.add(Dense(10, activation='softmax'))\n",
    "#output layer with 10 output neurons\n",
    "model.compile(optimizer='adam',loss='categorical_crossentropy',metrics=['accuracy'])\n",
    "#compiling the neural network with necessary parameters\n",
    "\n",
    "model.summary()\n",
    "#neural network architecture and parameters"
   ]
  },
  {
   "cell_type": "code",
   "execution_count": 6,
   "metadata": {
    "colab": {
     "base_uri": "https://localhost:8080/",
     "height": 1000
    },
    "colab_type": "code",
    "id": "walrAPBDAmZa",
    "outputId": "48d7f38e-1299-4d13-e035-4b9fc766a3da"
   },
   "outputs": [
    {
     "name": "stdout",
     "output_type": "stream",
     "text": [
      "Epoch 1/20\n",
      "1688/1688 [==============================] - 12s 7ms/step - loss: 0.1963 - accuracy: 0.9408 - val_loss: 0.1018 - val_accuracy: 0.9697\n",
      "Epoch 2/20\n",
      "1688/1688 [==============================] - 11s 7ms/step - loss: 0.0826 - accuracy: 0.9745 - val_loss: 0.0751 - val_accuracy: 0.9780\n",
      "Epoch 3/20\n",
      "1688/1688 [==============================] - 10s 6ms/step - loss: 0.0571 - accuracy: 0.9823 - val_loss: 0.0697 - val_accuracy: 0.9795\n",
      "Epoch 4/20\n",
      "1688/1688 [==============================] - 11s 6ms/step - loss: 0.0433 - accuracy: 0.9866 - val_loss: 0.0730 - val_accuracy: 0.9800\n",
      "Epoch 5/20\n",
      "1688/1688 [==============================] - 10s 6ms/step - loss: 0.0327 - accuracy: 0.9892 - val_loss: 0.0761 - val_accuracy: 0.9800\n",
      "Epoch 6/20\n",
      "1688/1688 [==============================] - 10s 6ms/step - loss: 0.0285 - accuracy: 0.9902 - val_loss: 0.0729 - val_accuracy: 0.9833\n",
      "Epoch 7/20\n",
      "1688/1688 [==============================] - 10s 6ms/step - loss: 0.0255 - accuracy: 0.9920 - val_loss: 0.0916 - val_accuracy: 0.9795\n",
      "Epoch 8/20\n",
      "1688/1688 [==============================] - 11s 7ms/step - loss: 0.0217 - accuracy: 0.9932 - val_loss: 0.0929 - val_accuracy: 0.9788\n",
      "Epoch 9/20\n",
      "1688/1688 [==============================] - 11s 6ms/step - loss: 0.0175 - accuracy: 0.9939 - val_loss: 0.0972 - val_accuracy: 0.9805\n",
      "Epoch 10/20\n",
      "1688/1688 [==============================] - 10s 6ms/step - loss: 0.0189 - accuracy: 0.9936 - val_loss: 0.1088 - val_accuracy: 0.9792\n",
      "Epoch 11/20\n",
      "1688/1688 [==============================] - 10s 6ms/step - loss: 0.0170 - accuracy: 0.9943 - val_loss: 0.1087 - val_accuracy: 0.9813\n",
      "Epoch 12/20\n",
      "1688/1688 [==============================] - 10s 6ms/step - loss: 0.0130 - accuracy: 0.9960 - val_loss: 0.1065 - val_accuracy: 0.9823\n",
      "Epoch 13/20\n",
      "1688/1688 [==============================] - 10s 6ms/step - loss: 0.0134 - accuracy: 0.9957 - val_loss: 0.1414 - val_accuracy: 0.9780\n",
      "Epoch 14/20\n",
      "1688/1688 [==============================] - 11s 6ms/step - loss: 0.0140 - accuracy: 0.9954 - val_loss: 0.1192 - val_accuracy: 0.9810\n",
      "Epoch 15/20\n",
      "1688/1688 [==============================] - 10s 6ms/step - loss: 0.0133 - accuracy: 0.9960 - val_loss: 0.1305 - val_accuracy: 0.9808\n",
      "Epoch 16/20\n",
      "1688/1688 [==============================] - 11s 7ms/step - loss: 0.0114 - accuracy: 0.9970 - val_loss: 0.1328 - val_accuracy: 0.9828\n",
      "Epoch 17/20\n",
      "1688/1688 [==============================] - 11s 6ms/step - loss: 0.0142 - accuracy: 0.9959 - val_loss: 0.1479 - val_accuracy: 0.9813\n",
      "Epoch 18/20\n",
      "1688/1688 [==============================] - 10s 6ms/step - loss: 0.0126 - accuracy: 0.9966 - val_loss: 0.1370 - val_accuracy: 0.9815\n",
      "Epoch 19/20\n",
      "1688/1688 [==============================] - 10s 6ms/step - loss: 0.0107 - accuracy: 0.9969 - val_loss: 0.1142 - val_accuracy: 0.9843\n",
      "Epoch 20/20\n",
      "1688/1688 [==============================] - 11s 7ms/step - loss: 0.0129 - accuracy: 0.9967 - val_loss: 0.1344 - val_accuracy: 0.9825\n"
     ]
    }
   ],
   "source": [
    "from keras.utils import np_utils\n",
    "\n",
    "train_target=np_utils.to_categorical(train_target)\n",
    "#convering the labels into a categorical representation\n",
    "\n",
    "history=model.fit(train_data, train_target, epochs=20,validation_split=0.1)\n",
    "#training the neural network for 50 epochs"
   ]
  },
  {
   "cell_type": "code",
   "execution_count": 7,
   "metadata": {
    "colab": {
     "base_uri": "https://localhost:8080/",
     "height": 357
    },
    "colab_type": "code",
    "id": "tMhBuWI1v_Hq",
    "outputId": "f9ffae57-855e-42bb-bf30-14e9eac29d36"
   },
   "outputs": [
    {
     "name": "stdout",
     "output_type": "stream",
     "text": [
      "[[1.1078403e-24 5.1536446e-18 1.0200145e-16 9.5101342e-14 7.4994757e-27\n",
      "  4.0682977e-23 8.5854130e-26 1.0000000e+00 2.1151541e-20 9.8376058e-16]\n",
      " [1.3342804e-28 9.3623172e-18 1.0000000e+00 1.2805778e-21 0.0000000e+00\n",
      "  3.2215869e-34 1.0751473e-35 1.0071733e-32 1.2154896e-33 3.4792419e-38]\n",
      " [2.1197006e-21 1.0000000e+00 1.8386070e-16 3.3462377e-29 6.3966303e-20\n",
      "  4.0588595e-22 6.0528948e-16 6.6455914e-18 1.1659495e-19 3.1275530e-23]\n",
      " [1.0000000e+00 1.3957217e-16 4.1030567e-14 1.6714491e-15 3.0075399e-14\n",
      "  3.1804658e-16 4.8794736e-11 2.7876272e-18 1.8861083e-19 2.6362140e-10]\n",
      " [6.9166413e-12 3.4702987e-12 3.3722246e-13 2.6362156e-15 9.9978954e-01\n",
      "  7.3947962e-17 1.3567183e-14 9.7726917e-11 1.8529282e-15 2.1044497e-04]\n",
      " [2.2441417e-22 1.0000000e+00 1.9012020e-23 1.0059379e-30 2.2610378e-20\n",
      "  8.7571252e-24 1.2147167e-16 5.2296504e-19 1.2965246e-19 5.1574835e-24]\n",
      " [3.3434257e-17 1.5796011e-15 4.5046737e-15 3.9904207e-21 1.0000000e+00\n",
      "  1.9780967e-14 7.0439925e-15 1.3458062e-15 9.0114152e-11 1.5125725e-09]\n",
      " [6.5717425e-20 9.9288247e-19 3.7114707e-14 3.2265928e-07 3.9872706e-13\n",
      "  1.7288852e-16 5.1834370e-32 1.3899676e-15 4.8179667e-17 9.9999964e-01]\n",
      " [1.3956973e-20 3.0293617e-16 4.6984042e-13 5.1650097e-14 1.5127343e-12\n",
      "  3.3324566e-03 9.9666744e-01 6.6988735e-22 4.2114875e-12 1.6299856e-07]\n",
      " [2.5224597e-25 2.0027181e-27 1.8341896e-28 5.6270244e-23 7.9618793e-15\n",
      "  1.1753589e-26 1.9497937e-32 5.5542555e-13 2.2883424e-22 1.0000000e+00]]\n"
     ]
    }
   ],
   "source": [
    "results=model.predict(test_data)\n",
    "print(results[:10])\n",
    "#testing and getting results using unseen data"
   ]
  },
  {
   "cell_type": "code",
   "execution_count": 8,
   "metadata": {
    "colab": {},
    "colab_type": "code",
    "id": "13GTitf_v_Hx"
   },
   "outputs": [],
   "source": [
    "import numpy as np\n",
    "results=np.argmax(results,axis=1)"
   ]
  },
  {
   "cell_type": "code",
   "execution_count": 9,
   "metadata": {
    "colab": {
     "base_uri": "https://localhost:8080/",
     "height": 51
    },
    "colab_type": "code",
    "id": "WsnU889xv_H1",
    "outputId": "a84660db-092a-4b75-ee0e-39d8c0b2052c"
   },
   "outputs": [
    {
     "name": "stdout",
     "output_type": "stream",
     "text": [
      "[7 2 1 0 4 1 4 9 5 9]\n",
      "[7 2 1 0 4 1 4 9 6 9]\n"
     ]
    }
   ],
   "source": [
    "print(test_target[:10])\n",
    "print(results[:10])"
   ]
  },
  {
   "cell_type": "code",
   "execution_count": 10,
   "metadata": {
    "colab": {
     "base_uri": "https://localhost:8080/",
     "height": 34
    },
    "colab_type": "code",
    "id": "Hb6li-t-v_H5",
    "outputId": "8f83a714-39af-4796-a0d0-f5ea535a0d13"
   },
   "outputs": [
    {
     "name": "stdout",
     "output_type": "stream",
     "text": [
      "Accuracy: 0.9823\n"
     ]
    }
   ],
   "source": [
    "from sklearn.metrics import accuracy_score\n",
    "accuracy=accuracy_score(test_target,results)\n",
    "print('Accuracy:',accuracy)\n",
    "#getting the accuracy between the actual and predicted results"
   ]
  },
  {
   "cell_type": "code",
   "execution_count": 11,
   "metadata": {
    "colab": {
     "base_uri": "https://localhost:8080/",
     "height": 296
    },
    "colab_type": "code",
    "id": "IvMIHnt-v_IE",
    "outputId": "5935e720-1021-48ee-9152-89de5c055415"
   },
   "outputs": [
    {
     "data": {
      "text/plain": [
       "Text(0, 0.5, 'loss')"
      ]
     },
     "execution_count": 11,
     "metadata": {},
     "output_type": "execute_result"
    },
    {
     "data": {
      "image/png": "[encoded data removed]",
      "text/plain": [
       "<Figure size 432x288 with 1 Axes>"
      ]
     },
     "metadata": {
      "needs_background": "light"
     },
     "output_type": "display_data"
    }
   ],
   "source": [
    "from matplotlib import pyplot as plt\n",
    "\n",
    "plt.plot(history.history['loss'])\n",
    "plt.xlabel('# epochs')\n",
    "plt.ylabel('loss')\n",
    "#visualizing the loss"
   ]
  },
  {
   "cell_type": "code",
   "execution_count": 13,
   "metadata": {
    "colab": {
     "base_uri": "https://localhost:8080/",
     "height": 296
    },
    "colab_type": "code",
    "id": "OVZj2VPLv_IQ",
    "outputId": "61c19128-f8ee-4bb3-b89f-aabe4e95a3b1"
   },
   "outputs": [
    {
     "data": {
      "text/plain": [
       "Text(0, 0.5, 'accuracy')"
      ]
     },
     "execution_count": 13,
     "metadata": {},
     "output_type": "execute_result"
    },
    {
     "data": {
      "image/png": "[encoded data removed]",
      "text/plain": [
       "<Figure size 432x288 with 1 Axes>"
      ]
     },
     "metadata": {
      "needs_background": "light"
     },
     "output_type": "display_data"
    }
   ],
   "source": [
    "plt.plot(history.history['accuracy'])\n",
    "plt.xlabel('# epochs')\n",
    "plt.ylabel('accuracy')\n",
    "#visualizing the accuracy"
   ]
  },
  {
   "cell_type": "code",
   "execution_count": 14,
   "metadata": {
    "colab": {},
    "colab_type": "code",
    "id": "YL5QqxSDv_IV"
   },
   "outputs": [],
   "source": [
    "model.save_weights('FFNN-MNIST.h5')"
   ]
  },
  {
   "cell_type": "code",
   "execution_count": null,
   "metadata": {},
   "outputs": [],
   "source": []
  }
 ],
 "metadata": {
  "accelerator": "GPU",
  "colab": {
   "name": "3.1 FFNN for MNIST dataset.ipynb",
   "provenance": []
  },
  "kernelspec": {
   "display_name": "Python 3",
   "language": "python",
   "name": "python3"
  },
  "language_info": {
   "codemirror_mode": {
    "name": "ipython",
    "version": 3
   },
   "file_extension": ".py",
   "mimetype": "text/x-python",
   "name": "python",
   "nbconvert_exporter": "python",
   "pygments_lexer": "ipython3",
   "version": "3.8.6"
  }
 },
 "nbformat": 4,
 "nbformat_minor": 1
}
